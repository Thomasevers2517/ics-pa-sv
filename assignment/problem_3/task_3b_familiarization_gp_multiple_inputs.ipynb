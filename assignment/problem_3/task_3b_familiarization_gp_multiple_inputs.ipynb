{
 "cells": [
  {
   "cell_type": "markdown",
   "id": "ac408b5e",
   "metadata": {
    "deletable": false,
    "editable": false,
    "nbgrader": {
     "cell_type": "markdown",
     "checksum": "7619294def77410a539e618e2428f0d5",
     "grade": false,
     "grade_id": "cell-b00828259c8e42e8",
     "locked": true,
     "schema_version": 3,
     "solution": false,
     "task": false
    }
   },
   "source": [
    "# RO47019: Intelligent Control Systems Practical Assignment\n",
    "* Period: 2023-2024, Q3\n",
    "* Course homepage: https://brightspace.tudelft.nl/d2l/home/500969\n",
    "* Instructor: Cosimo Della Santina (C.DellaSantina@tudelft.nl)\n",
    "* Teaching assistant: Maria de Neves de Fonseca (M.deNevesdeFonseca-1@student.tudelft.nl)\n",
    "* (c) TU Delft, 2024\n",
    "\n",
    "Make sure you fill in any place that says `YOUR CODE HERE` or `YOUR ANSWER HERE`. Remove `raise NotImplementedError()` afterwards. Moreover, if you see an empty cell, please DO NOT delete it, instead run that cell as you would run all other cells. Please fill in your name(s) and other required details below:"
   ]
  },
  {
   "cell_type": "code",
   "execution_count": 33,
   "id": "4f9e220c",
   "metadata": {},
   "outputs": [],
   "source": [
    "# Please fill in your names, student numbers, netID, and emails below.\n",
    "STUDENT_1_NAME = \"Thomas Evers\"\n",
    "STUDENT_1_STUDENT_NUMBER = \"5310121\"\n",
    "STUDENT_1_NETID = \"thomasevers\"\n",
    "STUDENT_1_EMAIL = \"t.evers-2@student.tudelft.nl\""
   ]
  },
  {
   "cell_type": "code",
   "execution_count": 34,
   "id": "8ba32571",
   "metadata": {
    "deletable": false,
    "editable": false,
    "nbgrader": {
     "cell_type": "code",
     "checksum": "042927213b84aa368aa3ea72caa4cb60",
     "grade": true,
     "grade_id": "cell-9f148ec62e0de49c",
     "locked": true,
     "points": 0,
     "schema_version": 3,
     "solution": false,
     "task": false
    }
   },
   "outputs": [],
   "source": [
    "# Note: this block is a check that you have filled in the above information.\n",
    "# It will throw an AssertionError until all fields are filled\n",
    "assert STUDENT_1_NAME != \"\"\n",
    "assert STUDENT_1_STUDENT_NUMBER != \"\"\n",
    "assert STUDENT_1_NETID != \"\"\n",
    "assert STUDENT_1_EMAIL != \"\""
   ]
  },
  {
   "cell_type": "markdown",
   "id": "af317a94",
   "metadata": {
    "deletable": false,
    "editable": false,
    "nbgrader": {
     "cell_type": "markdown",
     "checksum": "95c5b11f9ac3896252d342cabb38d867",
     "grade": false,
     "grade_id": "cell-4ea391677951116c",
     "locked": true,
     "schema_version": 3,
     "solution": false,
     "task": false
    }
   },
   "source": [
    "### General announcements\n",
    "\n",
    "* Do *not* share your solutions (also after the course is finished), and do *not* copy solutions from others. By submitting your solutions, you claim that you alone are responsible for this code.\n",
    "\n",
    "* Do *not* email questions directly, since we want to provide everybody with the same information and avoid repeating the same answers. Instead, please post your questions regarding this assignment in the correct support forum on Brightspace, this way everybody can benefit from the response. If you do have a particular question that you want to ask directly, please use the scheduled Q&A hours to ask the TA.\n",
    "\n",
    "* There is a strict deadline for each assignment. Students are responsible to ensure that they have uploaded their work in time. So, please double check that your upload succeeded to the Brightspace and avoid any late penalties.\n",
    "\n",
    "* This [Jupyter notebook](https://jupyter.org/) uses `nbgrader` to help us with automated tests. `nbgrader` will make various cells in this notebook \"uneditable\" or \"unremovable\" and gives them a special id in the cell metadata. This way, when we run our checks, the system will check the existence of the cell ids and verify the number of points and which checks must be run. While there are ways that you can edit the metadata and work around the restrictions to delete or modify these special cells, you should not do that since then our nbgrader backend will not be able to parse your notebook and give you points for the assignment. You are free to add additional cells, but if you find a cell that you cannot modify or remove, please know that this is on purpose.\n",
    "\n",
    "* This notebook will have in various places a line that throws a `NotImplementedError` exception. These are locations where the assignment requires you to adapt the code! These lines are just there as a reminder for you that you have not yet adapted that particular piece of code, especially when you execute all the cells. Once your solution code replaced these lines, it should accordingly *not* throw any exceptions anymore.\n",
    "\n",
    "Before you turn this problem in, make sure everything runs as expected. First, **restart the kernel** (in the menubar, select Kernel$\\rightarrow$Restart) and then **run all cells** (in the menubar, select Cell$\\rightarrow$Run All)."
   ]
  },
  {
   "cell_type": "code",
   "execution_count": null,
   "id": "3c956945",
   "metadata": {},
   "outputs": [],
   "source": []
  },
  {
   "cell_type": "markdown",
   "id": "12af8b2f",
   "metadata": {
    "deletable": false,
    "editable": false,
    "nbgrader": {
     "cell_type": "markdown",
     "checksum": "a29dd387c402d3428f4cfdae33fc86cc",
     "grade": false,
     "grade_id": "cell-09ee0d8744e5ae05",
     "locked": true,
     "schema_version": 3,
     "solution": false,
     "task": false
    }
   },
   "source": [
    "# Task 3b - Familiarization with Multi-Input Single output GPs (5p) (Bonus)\n",
    "**Authors:** Giovanni Franzese (G.Franzese@tudelft.nl), Lorenzo Lyons (L.Lyons@tudelft.nl)"
   ]
  },
  {
   "cell_type": "code",
   "execution_count": 35,
   "id": "0f4ceacc",
   "metadata": {
    "deletable": false,
    "editable": false,
    "nbgrader": {
     "cell_type": "code",
     "checksum": "580d23f30196d59b4f4026cd53525f23",
     "grade": false,
     "grade_id": "cell-ba3273c841494da7",
     "locked": true,
     "schema_version": 3,
     "solution": false,
     "task": false
    }
   },
   "outputs": [],
   "source": [
    "import gpytorch\n",
    "from gpytorch.models import ApproximateGP\n",
    "from gpytorch.variational import CholeskyVariationalDistribution\n",
    "from gpytorch.variational import VariationalStrategy\n",
    "import matplotlib.pyplot as plt\n",
    "from matplotlib.widgets import Slider\n",
    "import numpy as np\n",
    "import pandas as pd\n",
    "from pathlib import Path\n",
    "import torch\n",
    "from torch.utils.data import TensorDataset, DataLoader\n",
    "from tqdm.notebook import tqdm  # progress bar\n",
    "\n",
    "# define folder where to save animations and plots\n",
    "outputs_dir = Path(\"outputs\")\n",
    "outputs_dir.mkdir(parents=True, exist_ok=True)"
   ]
  },
  {
   "cell_type": "markdown",
   "id": "549d3167",
   "metadata": {
    "deletable": false,
    "editable": false,
    "nbgrader": {
     "cell_type": "markdown",
     "checksum": "e83e0ef63ba046a0f3056ff765a0b1d1",
     "grade": false,
     "grade_id": "cell-a465b1b75d945b2b",
     "locked": true,
     "schema_version": 3,
     "solution": false,
     "task": false
    }
   },
   "source": [
    "## Task 3b.1 - Load the dataset with concrete data (0p)"
   ]
  },
  {
   "cell_type": "code",
   "execution_count": 36,
   "id": "5b58cdd3",
   "metadata": {
    "deletable": false,
    "editable": false,
    "nbgrader": {
     "cell_type": "code",
     "checksum": "3ff58139f3f2857e51d8ca4a032ea0a8",
     "grade": false,
     "grade_id": "cell-c30144953f9790f1",
     "locked": true,
     "schema_version": 3,
     "solution": false,
     "task": false
    }
   },
   "outputs": [
    {
     "data": {
      "text/html": [
       "<div>\n",
       "<style scoped>\n",
       "    .dataframe tbody tr th:only-of-type {\n",
       "        vertical-align: middle;\n",
       "    }\n",
       "\n",
       "    .dataframe tbody tr th {\n",
       "        vertical-align: top;\n",
       "    }\n",
       "\n",
       "    .dataframe thead th {\n",
       "        text-align: right;\n",
       "    }\n",
       "</style>\n",
       "<table border=\"1\" class=\"dataframe\">\n",
       "  <thead>\n",
       "    <tr style=\"text-align: right;\">\n",
       "      <th></th>\n",
       "      <th>Cement (component 1)(kg in a m^3 mixture)</th>\n",
       "      <th>Blast Furnace Slag (component 2)(kg in a m^3 mixture)</th>\n",
       "      <th>Fly Ash (component 3)(kg in a m^3 mixture)</th>\n",
       "      <th>Water  (component 4)(kg in a m^3 mixture)</th>\n",
       "      <th>Superplasticizer (component 5)(kg in a m^3 mixture)</th>\n",
       "      <th>Coarse Aggregate  (component 6)(kg in a m^3 mixture)</th>\n",
       "      <th>Fine Aggregate (component 7)(kg in a m^3 mixture)</th>\n",
       "      <th>Age (day)</th>\n",
       "      <th>Concrete compressive strength(MPa, megapascals)</th>\n",
       "    </tr>\n",
       "  </thead>\n",
       "  <tbody>\n",
       "    <tr>\n",
       "      <th>0</th>\n",
       "      <td>540.0</td>\n",
       "      <td>0.0</td>\n",
       "      <td>0.0</td>\n",
       "      <td>162.0</td>\n",
       "      <td>2.5</td>\n",
       "      <td>1040.0</td>\n",
       "      <td>676.0</td>\n",
       "      <td>28</td>\n",
       "      <td>79.99</td>\n",
       "    </tr>\n",
       "    <tr>\n",
       "      <th>1</th>\n",
       "      <td>540.0</td>\n",
       "      <td>0.0</td>\n",
       "      <td>0.0</td>\n",
       "      <td>162.0</td>\n",
       "      <td>2.5</td>\n",
       "      <td>1055.0</td>\n",
       "      <td>676.0</td>\n",
       "      <td>28</td>\n",
       "      <td>61.89</td>\n",
       "    </tr>\n",
       "    <tr>\n",
       "      <th>2</th>\n",
       "      <td>332.5</td>\n",
       "      <td>142.5</td>\n",
       "      <td>0.0</td>\n",
       "      <td>228.0</td>\n",
       "      <td>0.0</td>\n",
       "      <td>932.0</td>\n",
       "      <td>594.0</td>\n",
       "      <td>270</td>\n",
       "      <td>40.27</td>\n",
       "    </tr>\n",
       "    <tr>\n",
       "      <th>3</th>\n",
       "      <td>332.5</td>\n",
       "      <td>142.5</td>\n",
       "      <td>0.0</td>\n",
       "      <td>228.0</td>\n",
       "      <td>0.0</td>\n",
       "      <td>932.0</td>\n",
       "      <td>594.0</td>\n",
       "      <td>365</td>\n",
       "      <td>41.05</td>\n",
       "    </tr>\n",
       "    <tr>\n",
       "      <th>4</th>\n",
       "      <td>198.6</td>\n",
       "      <td>132.4</td>\n",
       "      <td>0.0</td>\n",
       "      <td>192.0</td>\n",
       "      <td>0.0</td>\n",
       "      <td>978.4</td>\n",
       "      <td>825.5</td>\n",
       "      <td>360</td>\n",
       "      <td>44.30</td>\n",
       "    </tr>\n",
       "  </tbody>\n",
       "</table>\n",
       "</div>"
      ],
      "text/plain": [
       "   Cement (component 1)(kg in a m^3 mixture)  \\\n",
       "0                                      540.0   \n",
       "1                                      540.0   \n",
       "2                                      332.5   \n",
       "3                                      332.5   \n",
       "4                                      198.6   \n",
       "\n",
       "   Blast Furnace Slag (component 2)(kg in a m^3 mixture)  \\\n",
       "0                                                0.0       \n",
       "1                                                0.0       \n",
       "2                                              142.5       \n",
       "3                                              142.5       \n",
       "4                                              132.4       \n",
       "\n",
       "   Fly Ash (component 3)(kg in a m^3 mixture)  \\\n",
       "0                                         0.0   \n",
       "1                                         0.0   \n",
       "2                                         0.0   \n",
       "3                                         0.0   \n",
       "4                                         0.0   \n",
       "\n",
       "   Water  (component 4)(kg in a m^3 mixture)  \\\n",
       "0                                      162.0   \n",
       "1                                      162.0   \n",
       "2                                      228.0   \n",
       "3                                      228.0   \n",
       "4                                      192.0   \n",
       "\n",
       "   Superplasticizer (component 5)(kg in a m^3 mixture)  \\\n",
       "0                                                2.5     \n",
       "1                                                2.5     \n",
       "2                                                0.0     \n",
       "3                                                0.0     \n",
       "4                                                0.0     \n",
       "\n",
       "   Coarse Aggregate  (component 6)(kg in a m^3 mixture)  \\\n",
       "0                                             1040.0      \n",
       "1                                             1055.0      \n",
       "2                                              932.0      \n",
       "3                                              932.0      \n",
       "4                                              978.4      \n",
       "\n",
       "   Fine Aggregate (component 7)(kg in a m^3 mixture)  Age (day)  \\\n",
       "0                                              676.0         28   \n",
       "1                                              676.0         28   \n",
       "2                                              594.0        270   \n",
       "3                                              594.0        365   \n",
       "4                                              825.5        360   \n",
       "\n",
       "   Concrete compressive strength(MPa, megapascals)   \n",
       "0                                             79.99  \n",
       "1                                             61.89  \n",
       "2                                             40.27  \n",
       "3                                             41.05  \n",
       "4                                             44.30  "
      ]
     },
     "execution_count": 36,
     "metadata": {},
     "output_type": "execute_result"
    }
   ],
   "source": [
    "data = pd.read_csv(Path(\"datasets\") / \"Concrete_Data.csv\")\n",
    "data.head()"
   ]
  },
  {
   "cell_type": "markdown",
   "id": "dc529d6e",
   "metadata": {
    "deletable": false,
    "editable": false,
    "nbgrader": {
     "cell_type": "markdown",
     "checksum": "06c5e2b7505739407c82ae714b414efa",
     "grade": false,
     "grade_id": "cell-de085ea88ff5f270",
     "locked": true,
     "schema_version": 3,
     "solution": false,
     "task": false
    }
   },
   "source": [
    "In this task, we will use the dataset with concrete data. The dataset is available in the file `concrete_data.csv`. The dataset contains 8 input variables and 1 output variable. The input variables are Cement, Blast Furnace Slag, Fly Ash, Water, Superplasticizer, Coarse Aggregate, Fine Aggregate, and Age. The output variable is the compressive strength of the concrete. \n",
    "We want to use a Gaussian Process to model the compressive strength of the concrete as a function of the other variables. Such a model can be useful in designing concrete mixtures or predicting the strength given the mixture properties. \n",
    "Let's divide the dataset into the training (80 %) and test (20 %) sets. We also initialize the 300 inducing points as randomly selected from the training set."
   ]
  },
  {
   "cell_type": "code",
   "execution_count": 37,
   "id": "aea63a25",
   "metadata": {
    "deletable": false,
    "editable": false,
    "nbgrader": {
     "cell_type": "code",
     "checksum": "a3920ba44548f7130d30a6376320fdda",
     "grade": false,
     "grade_id": "cell-e6817cbb93d174b4",
     "locked": true,
     "schema_version": 3,
     "solution": false,
     "task": false
    }
   },
   "outputs": [],
   "source": [
    "# Extract X and Y from the dataframe and convert to numpy arrays\n",
    "data_numpy = data.to_numpy()\n",
    "X = data_numpy[:, :-1]\n",
    "Y = data_numpy[:, -1]\n",
    "\n",
    "# Assuming X and Y are your features and labels, respectively\n",
    "# Let's say you have 80% of the data for training and 20% for testing\n",
    "\n",
    "# Set a random seed for reproducibility\n",
    "np.random.seed(42)\n",
    "\n",
    "# Get the number of samples in your dataset\n",
    "num_samples = len(X)\n",
    "\n",
    "# Define the percentage split\n",
    "train_percentage = 0.8\n",
    "\n",
    "# Calculate the number of samples for training\n",
    "num_train_samples = int(train_percentage * num_samples)\n",
    "\n",
    "# Generate random indices for the training set\n",
    "train_indices = np.random.choice(num_samples, num_train_samples, replace=False)\n",
    "\n",
    "# Use the remaining indices for the test set\n",
    "test_indices = np.setdiff1d(np.arange(num_samples), train_indices)\n",
    "\n",
    "# Split the data based on the generated indices\n",
    "train_x, train_y = X[train_indices], Y[train_indices]\n",
    "test_x, test_y = X[test_indices], Y[test_indices]\n",
    "\n",
    "# create the training dataloader\n",
    "train_x_torch = torch.from_numpy(train_x).double()\n",
    "train_y_torch = torch.from_numpy(train_y).double()\n",
    "train_dataset = TensorDataset(train_x_torch, train_y_torch)\n",
    "train_loader = DataLoader(train_dataset, batch_size=256, shuffle=True)\n",
    "\n",
    "# pick inducing points randomly from the training data\n",
    "num_inducing_points = 300\n",
    "inducing_points_index = np.random.choice(\n",
    "    num_train_samples, num_inducing_points, replace=False\n",
    ")\n",
    "inducing_points = torch.from_numpy(train_x[inducing_points_index, :]).double()"
   ]
  },
  {
   "cell_type": "markdown",
   "id": "11fdb410",
   "metadata": {
    "deletable": false,
    "editable": false,
    "nbgrader": {
     "cell_type": "markdown",
     "checksum": "fe9f2ec162952480bf5e187e493417ba",
     "grade": false,
     "grade_id": "cell-35010650535c774e",
     "locked": true,
     "schema_version": 3,
     "solution": false,
     "task": false
    }
   },
   "source": [
    "## Task 3b.2 - Construct a Sparse Gaussian Process with Multiple-Input Single Output (0.5p)\n",
    "Choose the Zero mean or the constant mean according to the if/else statement of the class. Choose the kernel to be an RBF kernel with ARD (0.5p). In GPytorch, the ARD is implemented by setting the `ard_num_dims` parameter of the kernel to the number of input features."
   ]
  },
  {
   "cell_type": "code",
   "execution_count": 38,
   "id": "dd4c36d4",
   "metadata": {
    "deletable": false,
    "nbgrader": {
     "cell_type": "code",
     "checksum": "d06bca671c5fb28b5452b59952d11d74",
     "grade": true,
     "grade_id": "cell-7665366ef6109e2e",
     "locked": false,
     "points": 0.5,
     "schema_version": 3,
     "solution": true,
     "task": false
    }
   },
   "outputs": [],
   "source": [
    "class SVGPModel(ApproximateGP):\n",
    "    def __init__(self, inducing_points, constant_mean=False):\n",
    "        variational_distribution = CholeskyVariationalDistribution(\n",
    "            inducing_points.size(0)\n",
    "        )\n",
    "        variational_strategy = VariationalStrategy(\n",
    "            self,\n",
    "            inducing_points,\n",
    "            variational_distribution,\n",
    "            learn_inducing_locations=True,\n",
    "        )\n",
    "        super(SVGPModel, self).__init__(variational_strategy)\n",
    "        if constant_mean:\n",
    "            # self.mean_module =\n",
    "            # YOUR CODE HERE\n",
    "            # raise NotImplementedError()\n",
    "            self.mean_module = gpytorch.means.ConstantMean()\n",
    "        else:  # Zero mean\n",
    "            # self.mean_module =\n",
    "            # YOUR CODE HERE\n",
    "            # raise NotImplementedError()\n",
    "            self.mean_module = gpytorch.means.ZeroMean()\n",
    "\n",
    "        # Use a RBF kernel with automatic relevance determination (ARD)\n",
    "        # YOUR CODE HERE\n",
    "        # raise NotImplementedError()\n",
    "        self.covar_module = gpytorch.kernels.ScaleKernel(\n",
    "            gpytorch.kernels.RBFKernel(ard_num_dims=train_x.shape[1])\n",
    "        )\n",
    "\n",
    "    def forward(self, x):\n",
    "        mean_x = self.mean_module(x)\n",
    "        covar_x = self.covar_module(x)\n",
    "        return gpytorch.distributions.MultivariateNormal(mean_x, covar_x)"
   ]
  },
  {
   "cell_type": "markdown",
   "id": "eb140063",
   "metadata": {
    "deletable": false,
    "editable": false,
    "nbgrader": {
     "cell_type": "markdown",
     "checksum": "781d0feb35104574353616828c2cbf53",
     "grade": false,
     "grade_id": "cell-fb812c2182ac28c5",
     "locked": true,
     "schema_version": 3,
     "solution": false,
     "task": false
    }
   },
   "source": [
    "## Task 3b.3 - Design a function for training the variational parameters (0.5p)\n",
    "Correctly define the marginal log-likelihood, considering our model is an approximate SVGP."
   ]
  },
  {
   "cell_type": "code",
   "execution_count": 39,
   "id": "ceca296f",
   "metadata": {
    "deletable": false,
    "nbgrader": {
     "cell_type": "code",
     "checksum": "c81553f91a33975edd902da0b6b55ecd",
     "grade": true,
     "grade_id": "cell-10b461dbe4e562bc",
     "locked": false,
     "points": 0.5,
     "schema_version": 3,
     "solution": true,
     "task": false
    }
   },
   "outputs": [],
   "source": [
    "def train_variational_parameters(likelihood, model, num_epochs: int = 2000):\n",
    "    optimizer = torch.optim.Adam(\n",
    "        [\n",
    "            {\"params\": model.parameters()},\n",
    "            {\"params\": likelihood.parameters()},\n",
    "        ],\n",
    "        lr=0.01,\n",
    "    )\n",
    "\n",
    "    # Our loss object. We're using the VariationalELBO\n",
    "    # mll =\n",
    "    # YOUR CODE HERE\n",
    "    # raise NotImplementedError()\n",
    "\n",
    "    mll = gpytorch.mlls.VariationalELBO(likelihood, model, num_data=train_y.shape[0])\n",
    "\n",
    "    model.train()\n",
    "    likelihood.train()\n",
    "    for i in tqdm(range(num_epochs)):\n",
    "        # Within each iteration, we will go over each minibatch of data\n",
    "        for x_batch, y_batch in train_loader:\n",
    "            optimizer.zero_grad()\n",
    "            output = model(x_batch)\n",
    "            loss = -mll(output, y_batch)\n",
    "            loss.backward()\n",
    "            optimizer.step()"
   ]
  },
  {
   "cell_type": "markdown",
   "id": "bb6b1ddf",
   "metadata": {
    "deletable": false,
    "editable": false,
    "nbgrader": {
     "cell_type": "markdown",
     "checksum": "18add06b55c8efd7bb6d7c9a7c63b533",
     "grade": false,
     "grade_id": "cell-f615d3eafce743e1",
     "locked": true,
     "schema_version": 3,
     "solution": false,
     "task": false
    }
   },
   "source": [
    "## Task 3b.4 - Define a function for evaluating the model and computing metrics (1.5p)\n",
    "When we predict the strength of a material, the absolute error is not the only metric we are interested in. We are going also to compute the accuracy of the model. We consider the prediction correct if the absolute error is less than two times the standard deviation, considering that the GP is a probabilistic model. Moreover, we are interested in quantifying the percentage of dangerous predictions. We consider a prediction dangerous if the model's lower confidence bound, i.e., the prediction minus two standard deviations, is higher than the actual value. This means that if the engineers use the lower confidence bound as a safety value for the strength of the material, they are still overestimating the strength, which may lead to undesired failures.\n",
    "\n",
    "\n",
    "Compute the following metrics.\n",
    "- Mean Absolute Error (MAE) on the train set\n",
    "- Mean Absolute Error (MAE) on the test set\n",
    "- Accuracy of the model on the train set (consider the prediction as correct if the absolute error is less than two times the standard deviation)\n",
    "- Accuracy of the model on the test set (consider the prediction as correct if the absolute error is less than two times the standard deviation)\n",
    "- Quantify the percentage of dangerous prediction, i.e., the prediction minus two standard deviations is higher than the actual value on the train set. \n",
    "- Quantify the percentage of dangerous prediction, i.e., the prediction minus two standard deviations is higher than the actual value, on the test set\n"
   ]
  },
  {
   "cell_type": "code",
   "execution_count": 40,
   "id": "43b25be6",
   "metadata": {
    "deletable": false,
    "nbgrader": {
     "cell_type": "code",
     "checksum": "a2d47e266d658db7902ff7e698ffd867",
     "grade": true,
     "grade_id": "cell-d857b199bf25d735",
     "locked": false,
     "points": 1.5,
     "schema_version": 3,
     "solution": true,
     "task": false
    }
   },
   "outputs": [],
   "source": [
    "def evaluate_model(likelihood, model):\n",
    "    # Get into evaluation (predictive posterior) mode\n",
    "    model.eval()\n",
    "    likelihood.eval()\n",
    "\n",
    "    # Evaluate the model on the test data\n",
    "    with torch.no_grad(), gpytorch.settings.fast_pred_var():\n",
    "        test_x_torch = torch.from_numpy(test_x).double()\n",
    "        test_y_torch = torch.from_numpy(test_y).double()\n",
    "\n",
    "        train_pred = likelihood(model(train_x_torch))\n",
    "        test_pred = likelihood(model(test_x_torch))\n",
    "\n",
    "        mae_train = torch.mean(torch.abs(train_pred.mean - train_y_torch)).item()\n",
    "        mae_test = torch.mean(torch.abs(test_pred.mean - test_y_torch)).item()\n",
    "\n",
    "        # Compute accuracy\n",
    "        accuracy_train = torch.mean((torch.abs(train_pred.mean - train_y_torch) < 2 * train_pred.stddev).float()).item()\n",
    "        accuracy_test = torch.mean((torch.abs(test_pred.mean - test_y_torch) < 2 * test_pred.stddev).float()).item()\n",
    "\n",
    "        # Compute dangerous predictions\n",
    "        dangerous_prediction_train = torch.mean((train_pred.mean - 2 * train_pred.stddev > train_y_torch).float()).item()\n",
    "        dangerous_prediction_test = torch.mean((test_pred.mean - 2 * test_pred.stddev > test_y_torch).float()).item()\n",
    "\n",
    "        print(f\"MAE on train set: {mae_train}\")\n",
    "        print(f\"MAE on test set: {mae_test}\")\n",
    "        print(f\"Accuracy on train set: {accuracy_train}\")\n",
    "        print(f\"Accuracy on test set: {accuracy_test}\")\n",
    "        print(f\"Dangerous percentage prediction on train set: {dangerous_prediction_train}\")\n",
    "        print(f\"Dangerous percentage prediction on test set {dangerous_prediction_test}\")\n",
    "\n",
    "        return train_pred, test_pred"
   ]
  },
  {
   "cell_type": "markdown",
   "id": "c577f03f",
   "metadata": {
    "deletable": false,
    "editable": false,
    "nbgrader": {
     "cell_type": "markdown",
     "checksum": "123e14c4765b46036359d36b8afb2abe",
     "grade": false,
     "grade_id": "cell-b78bf3bbaee489d2",
     "locked": true,
     "schema_version": 3,
     "solution": false,
     "task": false
    }
   },
   "source": [
    "## Task 3b.5 - Train and evaluate the `SVGPModel` with a constant mean (2.5)\n",
    "### Task 3b.5.1 - Initialize a constant mean model and the Gaussian Likelihood (0.5p)"
   ]
  },
  {
   "cell_type": "code",
   "execution_count": 41,
   "id": "e2f6d0aa",
   "metadata": {
    "deletable": false,
    "nbgrader": {
     "cell_type": "code",
     "checksum": "6329f21e03fadc9c0f387969c5eaa6dd",
     "grade": true,
     "grade_id": "cell-ce838438be8fda36",
     "locked": false,
     "points": 0.5,
     "schema_version": 3,
     "solution": true,
     "task": false
    }
   },
   "outputs": [
    {
     "data": {
      "application/vnd.jupyter.widget-view+json": {
       "model_id": "138cd2fa768d4b96b1235dd407e4982b",
       "version_major": 2,
       "version_minor": 0
      },
      "text/plain": [
       "  0%|          | 0/2000 [00:00<?, ?it/s]"
      ]
     },
     "metadata": {},
     "output_type": "display_data"
    }
   ],
   "source": [
    "# Set a random seed for reproducibility\n",
    "np.random.seed(43)\n",
    "\n",
    "# initialize the model\n",
    "# model_constant_mean =\n",
    "# likelihood_constant_mean =\n",
    "# YOUR CODE HERE\n",
    "# raise NotImplementedError()\n",
    "model_constant_mean = SVGPModel(inducing_points, constant_mean=True)\n",
    "likelihood_constant_mean = gpytorch.likelihoods.GaussianLikelihood()\n",
    "\n",
    "\n",
    "model_constant_mean = model_constant_mean.double()\n",
    "likelihood_constant_mean = likelihood_constant_mean.double()\n",
    "\n",
    "# train the variational parameters\n",
    "train_variational_parameters(likelihood_constant_mean, model_constant_mean)"
   ]
  },
  {
   "cell_type": "markdown",
   "id": "c38a1342",
   "metadata": {
    "deletable": false,
    "editable": false,
    "nbgrader": {
     "cell_type": "markdown",
     "checksum": "554e780e22b08ee42ed16845103d6c84",
     "grade": false,
     "grade_id": "cell-cb961022f25dc296",
     "locked": true,
     "schema_version": 3,
     "solution": false,
     "task": false
    }
   },
   "source": [
    "### Task 3b.5.2 - Evaluate the model and print metrics (0.5p)"
   ]
  },
  {
   "cell_type": "code",
   "execution_count": 42,
   "id": "fdccf2a2",
   "metadata": {
    "deletable": false,
    "nbgrader": {
     "cell_type": "code",
     "checksum": "2e9fa364bedf41eb15b2c711ff72a6ec",
     "grade": true,
     "grade_id": "cell-6928ae580ad74ab9",
     "locked": false,
     "points": 0.5,
     "schema_version": 3,
     "solution": true,
     "task": false
    }
   },
   "outputs": [
    {
     "name": "stdout",
     "output_type": "stream",
     "text": [
      "MAE on train set: 3.410365341517511\n",
      "MAE on test set: 6.402074056774235\n",
      "Accuracy on train set: 0.9247573018074036\n",
      "Accuracy on test set: 0.7669903039932251\n",
      "Dangerous percentage prediction on train set: 0.014563106931746006\n",
      "Dangerous percentage prediction on test set 0.08252426981925964\n"
     ]
    }
   ],
   "source": [
    "# Call the function to evaluate the model\n",
    "# train_pred_constant_mean, test_pred_constant_mean =\n",
    "# YOUR CODE HERE\n",
    "# raise NotImplementedError()\n",
    "train_pred_constant_mean, test_pred_constant_mean = evaluate_model(likelihood_constant_mean, model_constant_mean)"
   ]
  },
  {
   "cell_type": "markdown",
   "id": "7d7aa183",
   "metadata": {
    "deletable": false,
    "editable": false,
    "nbgrader": {
     "cell_type": "markdown",
     "checksum": "67cfa98fc6dc441fa0668744768b1dda",
     "grade": false,
     "grade_id": "cell-c7e9855aaa27f18b",
     "locked": true,
     "schema_version": 3,
     "solution": false,
     "task": false
    }
   },
   "source": [
    "### Task 3b.5.3 - Print the horizontal and the vertical length scales, and the constant mean value (0.5p)"
   ]
  },
  {
   "cell_type": "code",
   "execution_count": 49,
   "id": "6c6ba027",
   "metadata": {
    "deletable": false,
    "nbgrader": {
     "cell_type": "code",
     "checksum": "da023fd95f3f0bbeb169723d34e5acc6",
     "grade": true,
     "grade_id": "cell-b3f9a306950753b9",
     "locked": false,
     "points": 0.5,
     "schema_version": 3,
     "solution": true,
     "task": false
    }
   },
   "outputs": [
    {
     "name": "stdout",
     "output_type": "stream",
     "text": [
      "Horizontal Lengthscale of the kernel: \n",
      "tensor([[63.0793, 67.6741, 61.2333, 47.5808, 34.0880, 61.1405, 65.4455, 12.9037]],\n",
      "       dtype=torch.float64, grad_fn=<SoftplusBackward0>)\n",
      "Vertical Lengthscale of the kernel: \n",
      "Parameter containing:\n",
      "tensor(33.0632, dtype=torch.float64, requires_grad=True)\n",
      "Constant mean value: \n",
      "Parameter containing:\n",
      "tensor(24.0300, dtype=torch.float64, requires_grad=True)\n"
     ]
    }
   ],
   "source": [
    "print(\"Horizontal Lengthscale of the kernel: \")\n",
    "print(model_constant_mean.covar_module.base_kernel.lengthscale)\n",
    "\n",
    "print(\"Vertical Lengthscale of the kernel: \")\n",
    "print(model_constant_mean.covar_module.raw_outputscale)\n",
    "\n",
    "print(\"Constant mean value: \")\n",
    "print(model_constant_mean.mean_module.constant)"
   ]
  },
  {
   "cell_type": "markdown",
   "id": "8ab8384b",
   "metadata": {
    "deletable": false,
    "editable": false,
    "nbgrader": {
     "cell_type": "markdown",
     "checksum": "d5d7143b46d52e07193e554c30a5061b",
     "grade": false,
     "grade_id": "cell-e1d1af24aca2a8ae",
     "locked": true,
     "schema_version": 3,
     "solution": false,
     "task": false
    }
   },
   "source": [
    "### Task 3b.5.4 - Plot the predictions on the test set (0p)"
   ]
  },
  {
   "cell_type": "code",
   "execution_count": 44,
   "id": "fbcbec7b",
   "metadata": {
    "deletable": false,
    "editable": false,
    "nbgrader": {
     "cell_type": "code",
     "checksum": "df8194c155aeca0ffef1b306943a0601",
     "grade": false,
     "grade_id": "cell-3da8dc9038b9d08e",
     "locked": true,
     "schema_version": 3,
     "solution": false,
     "task": false
    }
   },
   "outputs": [
    {
     "data": {
      "application/vnd.jupyter.widget-view+json": {
       "model_id": "e9a8b88653764b78a87469d3cc150695",
       "version_major": 2,
       "version_minor": 0
      },
      "image/png": "[encoded data removed]",
      "text/html": [
       "\n",
       "            <div style=\"display: inline-block;\">\n",
       "                <div class=\"jupyter-widgets widget-label\" style=\"text-align: center;\">\n",
       "                    Figure\n",
       "                </div>\n",
       "                <img src='data:image/png;base64,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' width=640.0/>\n",
       "            </div>\n",
       "        "
      ],
      "text/plain": [
       "Canvas(toolbar=Toolbar(toolitems=[('Home', 'Reset original view', 'home', 'home'), ('Back', 'Back to previous …"
      ]
     },
     "metadata": {},
     "output_type": "display_data"
    }
   ],
   "source": [
    "%matplotlib widget\n",
    "\n",
    "# Setting fig and ax variables as subplots()\n",
    "# function returns tuple(fig, ax)\n",
    "fig, ax = plt.subplots()\n",
    "\n",
    "# Adjust the bottom size according to the\n",
    "# requirement of the user\n",
    "plt.subplots_adjust(bottom=0.25)\n",
    "\n",
    "index = np.arange(test_y.shape[0])\n",
    "plt.errorbar(\n",
    "    index,\n",
    "    test_pred_constant_mean.mean.numpy(),\n",
    "    yerr=2 * test_pred_constant_mean.stddev.numpy(),\n",
    "    fmt=\"*\",\n",
    "    label=\"Predictions with uncertainty\",\n",
    ")\n",
    "plt.plot(index, test_y, \"o\", label=\"True values\")\n",
    "\n",
    "plt.title(\"Prediction on test set\")\n",
    "# Choose the Slider color\n",
    "slider_color = \"White\"\n",
    "\n",
    "# Set the axis and slider position in the plot\n",
    "axis_position = plt.axes([0.2, 0.1, 0.65, 0.03], facecolor=slider_color)\n",
    "slider_position = Slider(axis_position, \"Pos\", 0.1, 90.0)\n",
    "\n",
    "\n",
    "# update() function to change the graph when the\n",
    "# slider is in use\n",
    "def update(val):\n",
    "    pos = slider_position.val\n",
    "    ax.axis([pos, pos + 20, 0, 100])\n",
    "    fig.canvas.draw_idle()\n",
    "\n",
    "\n",
    "# update function called using on_changed() function\n",
    "slider_position.on_changed(update)\n",
    "\n",
    "# Display the plot\n",
    "plt.savefig(outputs_dir / \"task_3b-5-4_predictions_on_test_set.pdf\")\n",
    "plt.show()"
   ]
  },
  {
   "cell_type": "markdown",
   "id": "7768b26c",
   "metadata": {
    "deletable": false,
    "editable": false,
    "nbgrader": {
     "cell_type": "markdown",
     "checksum": "275857537168d718574ed30f01de75f3",
     "grade": false,
     "grade_id": "cell-bf8dca82183883b9",
     "locked": true,
     "schema_version": 3,
     "solution": false,
     "task": false
    }
   },
   "source": [
    "## Task 3b.6 - Train and evaluate the `SVGPModel` with zero mean (0p)"
   ]
  },
  {
   "cell_type": "code",
   "execution_count": 45,
   "id": "8ed3992c",
   "metadata": {
    "deletable": false,
    "nbgrader": {
     "cell_type": "code",
     "checksum": "339f5041515ce08cec195743430d6a42",
     "grade": true,
     "grade_id": "cell-6b0ddd961eed0731",
     "locked": false,
     "points": 0,
     "schema_version": 3,
     "solution": true,
     "task": false
    }
   },
   "outputs": [
    {
     "data": {
      "application/vnd.jupyter.widget-view+json": {
       "model_id": "3bb9f17e28884a978aefd303f42919f1",
       "version_major": 2,
       "version_minor": 0
      },
      "text/plain": [
       "  0%|          | 0/2000 [00:00<?, ?it/s]"
      ]
     },
     "metadata": {},
     "output_type": "display_data"
    },
    {
     "name": "stdout",
     "output_type": "stream",
     "text": [
      "MAE on train set: 3.405674996211656\n",
      "MAE on test set: 6.708576996393587\n",
      "Accuracy on train set: 0.9247573018074036\n",
      "Accuracy on test set: 0.791262149810791\n",
      "Dangerous percentage prediction on train set: 0.02063106745481491\n",
      "Dangerous percentage prediction on test set 0.058252427726984024\n"
     ]
    }
   ],
   "source": [
    "# Set a random seed for reproducibility\n",
    "np.random.seed(43)\n",
    "\n",
    "# Define the model (with a zero mean) and the likelihood\n",
    "# model_zero_mean =\n",
    "# likelihood_zero_mean =\n",
    "# YOUR CODE HERE\n",
    "# raise NotImplementedError()\n",
    "model_zero_mean = SVGPModel(inducing_points, constant_mean=False)\n",
    "likelihood_zero_mean = gpytorch.likelihoods.GaussianLikelihood()\n",
    "\n",
    "model_zero_mean = model_zero_mean.double()\n",
    "likelihood_zero_mean = likelihood_zero_mean.double()\n",
    "\n",
    "# Call the function to train the variational parameters\n",
    "# YOUR CODE HERE\n",
    "# raise NotImplementedError()\n",
    "train_variational_parameters(likelihood_zero_mean, model_zero_mean)\n",
    "\n",
    "# Call the function to evaluate the model\n",
    "# train_pred_zero_mean, test_pred_zero_mean =\n",
    "# YOUR CODE HERE\n",
    "# raise NotImplementedError()\n",
    "train_pred_zero_mean, test_pred_zero_mean = evaluate_model(likelihood_zero_mean, model_zero_mean)"
   ]
  },
  {
   "cell_type": "markdown",
   "id": "baa68348",
   "metadata": {
    "deletable": false,
    "editable": false,
    "nbgrader": {
     "cell_type": "markdown",
     "checksum": "98ece5c37100f0edc550022008dc644f",
     "grade": false,
     "grade_id": "cell-02030cafaad31dd1",
     "locked": true,
     "schema_version": 3,
     "solution": false,
     "task": false
    }
   },
   "source": [
    "## Task 3b.7 - Comparison of the two models (1p)\n",
    "Comment on the difference between the predictions of the two sparse GP models (i.e., the one with constant and zero mean). Discuss the effect of the mean function, in particular, on the safety of the predictions."
   ]
  },
  {
   "cell_type": "markdown",
   "id": "3d2530f2",
   "metadata": {
    "deletable": false,
    "nbgrader": {
     "cell_type": "markdown",
     "checksum": "df3770672571ee1d1716bca3d394d417",
     "grade": true,
     "grade_id": "cell-92aa665e40398770",
     "locked": false,
     "points": 1,
     "schema_version": 3,
     "solution": true,
     "task": false
    }
   },
   "source": [
    "The mean indicates whether a prior on the function was provided. A zero mean implies no prior, while a constant mean implies a prior. With a zero mean, the fitting of the data is done purely based on the datapoints. This is generally more safe, seeing as no untrue assumtions of the prior can change the predictions in an inaccurate way. A proper prior however can decrease the variance of the predictions, which can be usefull at times. However for safety, one would like to use an upper bound of the variance of the prediction. Rather overestimate the uncertainty than underestimate it."
   ]
  },
  {
   "cell_type": "markdown",
   "id": "1af5de2a",
   "metadata": {},
   "source": []
  }
 ],
 "metadata": {
  "kernelspec": {
   "display_name": "Python 3 (ipykernel)",
   "language": "python",
   "name": "python3"
  },
  "language_info": {
   "codemirror_mode": {
    "name": "ipython",
    "version": 3
   },
   "file_extension": ".py",
   "mimetype": "text/x-python",
   "name": "python",
   "nbconvert_exporter": "python",
   "pygments_lexer": "ipython3",
   "version": "3.11.8"
  }
 },
 "nbformat": 4,
 "nbformat_minor": 5
}
