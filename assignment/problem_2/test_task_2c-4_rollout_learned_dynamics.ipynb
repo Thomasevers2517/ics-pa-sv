import numpy as np

# load the save neural network params
statedict_path = str(Path("statedicts") / "task_2c_lagrangian_nn_params.pkl")
with open(statedict_path, "rb") as f:
    nn_params = dill.load(f)

# import the learned discrete forward dynamics from lagrangian_nn.ipynb
from ipynb.fs.full.lnn import discrete_forward_dynamics as lnn_discrete_forward_dynamics

# transform lnn_discrete_forward_dynamics to behave to the following signature
# th_next, th_d_next, th_dd = discrete_forward_dynamics(dt, th_curr, th_d_curr, tau)
learned_discrete_forward_dynamics_fn = None
MassMatrixNN = nn_params["MassMatrixNN"]
PotentialEnergyNN = nn_params["PotentialEnergyNN"]
print(MassMatrixNN)
print(PotentialEnergyNN)

learned_discrete_forward_dynamics_fn = partial(lnn_discrete_forward_dynamics, MassMatrixNN, PotentialEnergyNN)

# simulate the learned dynamics
# Hint: pass the `learned_discrete_forward_dynamics_fn` to the `simulate_robot` function.
learned_sim_ts = None
# YOUR CODE HERE
learned_sim_ts = simulate_robot(
    rp=ROBOT_PARAMS,
    t_ts=t_ts,
    th_0=th_0,
    th_d_0=th_d_0,
    discrete_forward_dynamics_fn=learned_discrete_forward_dynamics_fn
)

# Assert if any elements in learned_sim_ts are NaN
assert not np.isnan(learned_sim_ts).any(), "NaN values found in learned_sim_ts"

rmse_th, rmse_th_d, rmse_th_dd = compute_configuration_space_rmse(
    nominal_sim_ts, learned_sim_ts
)
rmse_x, rmse_x_d, rmse_x_dd = compute_operational_space_rmse(
    nominal_sim_ts, learned_sim_ts
)
with jnp.printoptions(precision=3):
    print(
        "RMSE theta:",
        rmse_th,
        "rad, RMSE theta_d:",
        rmse_th_d,
        "rad/s, RMSE theta_dd:",
        rmse_th_dd,
        "rad/s^2",
    )
    print(
        "RMSE x:",
        f"{jnp.linalg.norm(rmse_x):.4f}",
        "m, RMSE x_d:",
        f"{jnp.linalg.norm(rmse_x_d):.3f}",
        "m/s, RMSE x_dd:",
        f"{jnp.linalg.norm(rmse_x_dd):.2f}",
        "m/s^2",
    )